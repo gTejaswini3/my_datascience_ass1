{
 "cells": [
  {
   "cell_type": "markdown",
   "id": "2bed393b-81c1-406a-9c76-4820ff746cf1",
   "metadata": {},
   "source": [
    "# Data Science Tools and Ecosystem"
   ]
  },
  {
   "cell_type": "markdown",
   "id": "262611f6-38ad-4d15-8ebc-95631b8b92c1",
   "metadata": {},
   "source": [
    "#In this notebook, Data Science Tools and Ecosystem are summarized."
   ]
  },
  {
   "cell_type": "markdown",
   "id": "98d534fd-cfd5-4e5a-aef6-e5646f62a5c6",
   "metadata": {},
   "source": [
    "__Objectives:__\n",
    "- Popular Languages\n",
    "- Commonly used libraries\n",
    "- Arithmetic operations\n",
    "## Author\n",
    "Tejaswini Gorijavolu"
   ]
  },
  {
   "cell_type": "markdown",
   "id": "8f03b1dc-07af-4681-a102-933730857777",
   "metadata": {},
   "source": [
    "#Some of the popular languages that Data Scientists use are:\n",
    "1. Python\n",
    "2. R\n",
    "3. SQL"
   ]
  },
  {
   "cell_type": "markdown",
   "id": "1546c624-1cb6-4604-b37d-493583eeb6c9",
   "metadata": {},
   "source": [
    "#Some of the commonly used libraries used by Data Scientists include:\n",
    "1. Pandas\n",
    "2. NumPy\n",
    "3. Tensorflow\n",
    "4. Matplotlib\n",
    "5. Seaborn"
   ]
  },
  {
   "cell_type": "markdown",
   "id": "b2d74169-ce90-44b7-b825-c90323bff0d5",
   "metadata": {},
   "source": [
    "|Data Science Tools|\n",
    "|------------------|\n",
    "|Jupyter Notebook  |\n",
    "|RStudio           |\n",
    "|Apache Zeppelin   | \n"
   ]
  },
  {
   "cell_type": "markdown",
   "id": "9ed0a8ce-31ab-41c5-b7c3-edd8c22e2c76",
   "metadata": {},
   "source": [
    "### Below are a few examples of evaluating arithmetic expressions in Python"
   ]
  },
  {
   "cell_type": "code",
   "execution_count": 57,
   "id": "cfac33e2-5160-4188-8c0b-01023d1e4219",
   "metadata": {},
   "outputs": [
    {
     "data": {
      "text/plain": [
       "17"
      ]
     },
     "execution_count": 57,
     "metadata": {},
     "output_type": "execute_result"
    }
   ],
   "source": [
    "#This a simple arithmetic expression to mutiply then add integers\n",
    "(3*4)+5"
   ]
  },
  {
   "cell_type": "code",
   "execution_count": 59,
   "id": "b8c4ef9b-81cc-4f3e-a7a2-6b03c8104d6d",
   "metadata": {},
   "outputs": [
    {
     "name": "stdin",
     "output_type": "stream",
     "text": [
      "No of Minutes 200\n"
     ]
    },
    {
     "name": "stdout",
     "output_type": "stream",
     "text": [
      "The no of hours for the given number of minutes200 is : 3.3333333333333335\n"
     ]
    }
   ],
   "source": [
    "#This will convert 200 minutes to hours by diving by 60\n",
    "\n",
    "no_of_minutes=int(input(\"No of Minutes\"))\n",
    "no_of_hours=(no_of_minutes/60)\n",
    "print(f'The no of hours for the given number of minutes{no_of_minutes} is : {no_of_hours}')"
   ]
  },
  {
   "cell_type": "code",
   "execution_count": null,
   "id": "f57d270f-3a44-43e0-9479-f2ba7807eee4",
   "metadata": {},
   "outputs": [],
   "source": []
  }
 ],
 "metadata": {
  "kernelspec": {
   "display_name": "Python 3 (ipykernel)",
   "language": "python",
   "name": "python3"
  },
  "language_info": {
   "codemirror_mode": {
    "name": "ipython",
    "version": 3
   },
   "file_extension": ".py",
   "mimetype": "text/x-python",
   "name": "python",
   "nbconvert_exporter": "python",
   "pygments_lexer": "ipython3",
   "version": "3.12.4"
  }
 },
 "nbformat": 4,
 "nbformat_minor": 5
}
